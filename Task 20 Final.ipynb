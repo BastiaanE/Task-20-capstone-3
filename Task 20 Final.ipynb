{
 "cells": [
  {
   "cell_type": "markdown",
   "metadata": {
    "colab_type": "text",
    "id": "eHGm8RQlK46m"
   },
   "source": [
    "# Get and explore dataset"
   ]
  },
  {
   "cell_type": "code",
   "execution_count": 45,
   "metadata": {
    "colab": {},
    "colab_type": "code",
    "id": "-erlYw1jXtgh"
   },
   "outputs": [],
   "source": [
    "import matplotlib.pyplot as plt\n",
    "from matplotlib import pyplot\n",
    "import numpy as np\n",
    "import re\n",
    "import pandas as pd\n",
    "import keras\n",
    "import tensorflow as tf"
   ]
  },
  {
   "cell_type": "code",
   "execution_count": 46,
   "metadata": {
    "colab": {},
    "colab_type": "code",
    "id": "goZIhX8nII4T"
   },
   "outputs": [],
   "source": [
    "# Make results reproducible - set random seed\n",
    "from numpy.random import seed\n",
    "seed(42)"
   ]
  },
  {
   "cell_type": "code",
   "execution_count": 47,
   "metadata": {
    "colab": {},
    "colab_type": "code",
    "id": "v_fEysQHII4W",
    "tags": []
   },
   "outputs": [],
   "source": [
    "negative_file = \"negative.txt\"\n",
    "positive_file = \"positive.txt\""
   ]
  },
  {
   "cell_type": "code",
   "execution_count": 48,
   "metadata": {
    "colab": {},
    "colab_type": "code",
    "id": "0rWm4yycII4Y",
    "tags": []
   },
   "outputs": [],
   "source": [
    "# Do not modify - helper function to load and preprocess data\n",
    "def filter_words(line):    \n",
    "    line = re.sub(r'[^\\w\\s]','',line.rstrip())\n",
    "    words = line.split(\" \") \n",
    "    words = [i.lower() for i in words if i]      \n",
    "    return \" \".join(words)\n",
    "\n",
    "def load_data(filename):\n",
    "    thefile = open(filename, 'r') \n",
    "    lines = thefile.readlines() \n",
    "\n",
    "    data = []\n",
    "    for l in range(0,len(lines)): \n",
    "        if(lines[l-1].strip() == \"<title>\"): \n",
    "            theline = filter_words(lines[l])\n",
    "            if(len(theline) < 50):\n",
    "                data.append(theline)            \n",
    "            \n",
    "    return data\n",
    "\n",
    "# Helper function to convert categorical data to class label\n",
    "def to_word_label(y):\n",
    "    y = to_class(y)   \n",
    "    return [\"positive\" if i==0 else \"negative\" for i in y]\n",
    "\n",
    "# Helper function to convert class label to numeric label\n",
    "def to_numeric_label(y):\n",
    "    return [0 if i==\"positive\" else 1 for i in word_labels]\n",
    "\n",
    "# Helper function: this function needs to be called before sending arrays to sklearn metrics,\n",
    "# it converts back to class form from categorical form. ie: [1,0] --> 0, [0,1] --> 1\n",
    "def to_class(y):\n",
    "    return np.argmax(y,axis=1) "
   ]
  },
  {
   "cell_type": "code",
   "execution_count": 49,
   "metadata": {
    "colab": {
     "base_uri": "https://localhost:8080/",
     "height": 70
    },
    "colab_type": "code",
    "id": "jjGUiFm9II4b",
    "outputId": "aa5eb89b-85f2-4d61-f33a-b00361b19a41",
    "tags": []
   },
   "outputs": [
    {
     "name": "stdout",
     "output_type": "stream",
     "text": [
      "['one of the best crichton novels', 'the medicine of the future', 'beautiful', 'for lovers of robicheaux', 'a good book', 'to the point and beautifully illustrated', 'at least somebody has got it', 'beautifully written heartwarming story', 'an excellent cookbook full of delicious recipes', 'an outstanding resource']\n",
      "['horrible book horrible', 'shallow selfindulgence', 'horrible book horrible', 'disappointment', 'a disappointing mess', 'save your money there are better books out there', 'thank you but no thanks', 'unendurable', 'the hard way', 'some good info among the political commercial']\n"
     ]
    }
   ],
   "source": [
    "positive = load_data(positive_file)\n",
    "negative = load_data(negative_file)\n",
    "\n",
    "print(positive[0:10])\n",
    "print(negative[0:10])"
   ]
  },
  {
   "cell_type": "code",
   "execution_count": null,
   "metadata": {},
   "outputs": [],
   "source": []
  },
  {
   "cell_type": "code",
   "execution_count": 50,
   "metadata": {
    "colab": {},
    "colab_type": "code",
    "id": "yrgEYOOCII4d",
    "tags": []
   },
   "outputs": [],
   "source": [
    "# Do not modify - Combines the positive and negative reviews into a single list and create labels\n",
    "data = positive + negative\n",
    "word_labels = [\"positive\"] * len(positive) + [\"negative\"] * len(negative) \n",
    "\n",
    "# Converts labels to numbers in one-hot encoding - [1, 0] (positive) or [0, 1] (negative)\n",
    "from keras.utils import to_categorical\n",
    "labels  = to_categorical(to_numeric_label(word_labels))"
   ]
  },
  {
   "cell_type": "code",
   "execution_count": 51,
   "metadata": {},
   "outputs": [],
   "source": [
    "df = pd.DataFrame(data)"
   ]
  },
  {
   "cell_type": "code",
   "execution_count": 52,
   "metadata": {
    "colab": {},
    "colab_type": "code",
    "id": "97Uh2uBpII4l",
    "tags": []
   },
   "outputs": [],
   "source": [
    "# Write some code to investigate the dataset. \n",
    "# - Calculate and report the mean review size, its standard deviation and create a boxplot.\n",
    "\n",
    "# creating the dataframe\n",
    "df_fin = pd.DataFrame(labels,data).reset_index()\n",
    "\n",
    "# adding the total words to the totalwords col \n",
    "df_fin[\"totalwords\"] = df_fin[\"index\"].str.split().str.len()\n",
    "\n",
    "# calculating the STD and mean \n",
    "df_mean = df_fin[\"totalwords\"].mean()\n",
    "df_std = df_fin[\"totalwords\"].std()\n",
    "\n",
    "# - Perform any other dataset investigation that you feel would be valuable\n",
    " "
   ]
  },
  {
   "cell_type": "code",
   "execution_count": 53,
   "metadata": {},
   "outputs": [
    {
     "name": "stdout",
     "output_type": "stream",
     "text": [
      "mean :\n",
      "4.336865588399331\n",
      "STD :\n",
      "2.170280849250691\n"
     ]
    }
   ],
   "source": [
    "# print the mean and STD of the Totalwords column \n",
    "print(\"mean :\") \n",
    "print(df_mean)\n",
    "print(\"STD :\") \n",
    "print(df_std)"
   ]
  },
  {
   "cell_type": "code",
   "execution_count": 54,
   "metadata": {},
   "outputs": [
    {
     "data": {
      "text/plain": [
       "<AxesSubplot:>"
      ]
     },
     "execution_count": 54,
     "metadata": {},
     "output_type": "execute_result"
    },
    {
     "data": {
      "image/png": "[encoded data removed]",
      "text/plain": [
       "<Figure size 432x288 with 1 Axes>"
      ]
     },
     "metadata": {
      "needs_background": "light"
     },
     "output_type": "display_data"
    }
   ],
   "source": [
    "# Boxplot of the Totalwords column \n",
    "df_fin.boxplot(column =\"totalwords\" )"
   ]
  },
  {
   "cell_type": "code",
   "execution_count": 55,
   "metadata": {},
   "outputs": [
    {
     "name": "stderr",
     "output_type": "stream",
     "text": [
      "C:\\Users\\basti\\AppData\\Local\\Temp/ipykernel_14372/1583998216.py:3: FutureWarning: The default value of regex will change from True to False in a future version.\n",
      "  unique = set(df[0].str.replace('[^a-zA-Z ]', '').str.lower().str.split(' ').sum())\n"
     ]
    },
    {
     "data": {
      "text/html": [
       "<div>\n",
       "<style scoped>\n",
       "    .dataframe tbody tr th:only-of-type {\n",
       "        vertical-align: middle;\n",
       "    }\n",
       "\n",
       "    .dataframe tbody tr th {\n",
       "        vertical-align: top;\n",
       "    }\n",
       "\n",
       "    .dataframe thead th {\n",
       "        text-align: right;\n",
       "    }\n",
       "</style>\n",
       "<table border=\"1\" class=\"dataframe\">\n",
       "  <thead>\n",
       "    <tr style=\"text-align: right;\">\n",
       "      <th></th>\n",
       "      <th>index</th>\n",
       "      <th>0</th>\n",
       "    </tr>\n",
       "  </thead>\n",
       "  <tbody>\n",
       "    <tr>\n",
       "      <th>0</th>\n",
       "      <td>one</td>\n",
       "      <td>45</td>\n",
       "    </tr>\n",
       "    <tr>\n",
       "      <th>1</th>\n",
       "      <td>of</td>\n",
       "      <td>177</td>\n",
       "    </tr>\n",
       "    <tr>\n",
       "      <th>2</th>\n",
       "      <td>the</td>\n",
       "      <td>290</td>\n",
       "    </tr>\n",
       "    <tr>\n",
       "      <th>3</th>\n",
       "      <td>best</td>\n",
       "      <td>44</td>\n",
       "    </tr>\n",
       "    <tr>\n",
       "      <th>4</th>\n",
       "      <td>crichton</td>\n",
       "      <td>2</td>\n",
       "    </tr>\n",
       "    <tr>\n",
       "      <th>...</th>\n",
       "      <td>...</td>\n",
       "      <td>...</td>\n",
       "    </tr>\n",
       "    <tr>\n",
       "      <th>2554</th>\n",
       "      <td>doublespeak</td>\n",
       "      <td>1</td>\n",
       "    </tr>\n",
       "    <tr>\n",
       "      <th>2555</th>\n",
       "      <td>visit</td>\n",
       "      <td>1</td>\n",
       "    </tr>\n",
       "    <tr>\n",
       "      <th>2556</th>\n",
       "      <td>okay</td>\n",
       "      <td>1</td>\n",
       "    </tr>\n",
       "    <tr>\n",
       "      <th>2557</th>\n",
       "      <td>reefer</td>\n",
       "      <td>1</td>\n",
       "    </tr>\n",
       "    <tr>\n",
       "      <th>2558</th>\n",
       "      <td>madness</td>\n",
       "      <td>1</td>\n",
       "    </tr>\n",
       "  </tbody>\n",
       "</table>\n",
       "<p>2559 rows × 2 columns</p>\n",
       "</div>"
      ],
      "text/plain": [
       "            index    0\n",
       "0             one   45\n",
       "1              of  177\n",
       "2             the  290\n",
       "3            best   44\n",
       "4        crichton    2\n",
       "...           ...  ...\n",
       "2554  doublespeak    1\n",
       "2555        visit    1\n",
       "2556         okay    1\n",
       "2557       reefer    1\n",
       "2558      madness    1\n",
       "\n",
       "[2559 rows x 2 columns]"
      ]
     },
     "execution_count": 55,
     "metadata": {},
     "output_type": "execute_result"
    }
   ],
   "source": [
    "# - Calculate the number of unique words in the dataset\n",
    "# getting the data reday to apply the count. \n",
    "unique = set(df[0].str.replace('[^a-zA-Z ]', '').str.lower().str.split(' ').sum())\n",
    "\n",
    "\n",
    "from collections import Counter\n",
    "df = pd.DataFrame(data)\n",
    "unique = Counter()\n",
    "df[0].str.lower().str.split().apply(unique.update)\n",
    "\n",
    "\n",
    "# convert the count item into a dataframe\n",
    "df_counted = pd.DataFrame.from_dict(unique, orient = \"index\").reset_index()\n",
    "df_counted\n"
   ]
  },
  {
   "cell_type": "code",
   "execution_count": 56,
   "metadata": {
    "colab": {
     "base_uri": "https://localhost:8080/",
     "height": 50
    },
    "colab_type": "code",
    "id": "_XXnArgcII4i",
    "outputId": "020b2ee2-4c2a-4bc0-bb55-e2ae3841fe57",
    "tags": []
   },
   "outputs": [
    {
     "name": "stdout",
     "output_type": "stream",
     "text": [
      "['one of the best crichton novels', 'the medicine of the future', 'beautiful', 'for lovers of robicheaux', 'a good book']\n",
      "[[18, 4, 2, 19], [2, 4, 2], [], [6, 4], [1, 12, 3]]\n"
     ]
    }
   ],
   "source": [
    "# Do not modify - Tokenize the vocabulary \n",
    "from keras.preprocessing.text import Tokenizer\n",
    "\n",
    "tokenizer = Tokenizer(num_words=25)\n",
    "\n",
    "tokenizer.fit_on_texts(data) #create the vocabularry\n",
    "\n",
    "tokenized_data = tokenizer.texts_to_sequences(data) #tokenize the data using the vocabulary\n",
    "\n",
    "vocab_size = len(tokenizer.word_index) + 1 \n",
    "\n",
    "# Compare a sample of the data before and after tokenization\n",
    "print(data[0:5])\n",
    "print(tokenized_data[0:5])"
   ]
  },
  {
   "cell_type": "markdown",
   "metadata": {
    "colab_type": "text",
    "id": "_vsMmLjdK1Gf"
   },
   "source": [
    "# Pre-processing"
   ]
  },
  {
   "cell_type": "code",
   "execution_count": 57,
   "metadata": {
    "colab": {},
    "colab_type": "code",
    "id": "24DaXd1zII4q",
    "tags": []
   },
   "outputs": [
    {
     "name": "stdout",
     "output_type": "stream",
     "text": [
      "[[18  4  2 19]\n",
      " [ 2  4  2  0]\n",
      " [ 0  0  0  0]\n",
      " ...\n",
      " [ 0  0  0  0]\n",
      " [ 6  0  0  0]\n",
      " [ 0  0  0  0]]\n"
     ]
    }
   ],
   "source": [
    "# Pre-processing\n",
    "# Write some code to pre-process the data so that each review is the same length\n",
    "\n",
    "from keras.preprocessing.sequence import pad_sequences\n",
    "\n",
    "data4 = pad_sequences(tokenized_data, padding = \"post\" , maxlen = 4)\n",
    "print(data4)\n"
   ]
  },
  {
   "cell_type": "code",
   "execution_count": 58,
   "metadata": {
    "colab": {},
    "colab_type": "code",
    "id": "AFTJcFy6II4s",
    "tags": []
   },
   "outputs": [
    {
     "name": "stdout",
     "output_type": "stream",
     "text": [
      "(1434, 4)\n"
     ]
    }
   ],
   "source": [
    "# Write some code to split the data into a training and test set. Make sure you shuffle the data. Use 20% for the test set.\n",
    "\n",
    "X = data4\n",
    "y= labels\n",
    "\n",
    "from sklearn.model_selection import train_test_split\n",
    "X_train, X_test, y_train, y_test = train_test_split(X,y, test_size=0.20, shuffle = True)\n",
    "\n",
    "print(X_train.shape)\n",
    "\n"
   ]
  },
  {
   "cell_type": "code",
   "execution_count": 59,
   "metadata": {
    "colab": {
     "base_uri": "https://localhost:8080/",
     "height": 128
    },
    "colab_type": "code",
    "id": "lDth1BSzII4u",
    "outputId": "4614049a-7151-4407-9bc8-54604bbe7fdd"
   },
   "outputs": [
    {
     "name": "stdout",
     "output_type": "stream",
     "text": [
      "classification_report\n",
      "              precision    recall  f1-score   support\n",
      "\n",
      "           0       0.53      0.34      0.41       176\n",
      "           1       0.53      0.71      0.60       183\n",
      "\n",
      "    accuracy                           0.53       359\n",
      "   macro avg       0.53      0.52      0.51       359\n",
      "weighted avg       0.53      0.53      0.51       359\n",
      "\n",
      "  \n",
      "conf_matrix\n",
      "    0    1\n",
      "0  59  117\n",
      "1  53  130\n"
     ]
    }
   ],
   "source": [
    "from sklearn.linear_model import LogisticRegression\n",
    "from sklearn.metrics import confusion_matrix, precision_score, recall_score, f1_score\n",
    "from sklearn.metrics import classification_report\n",
    "from sklearn.metrics import confusion_matrix\n",
    "\n",
    "def assess_model(model, X_test, y_test):      \n",
    "    #To do\n",
    "    y_pred = ()\n",
    "    con = ()\n",
    "    log = model()\n",
    "    log.fit(X_train, to_class(y_train))\n",
    "    y_pred = log.predict(X_test).reshape(-1,1)\n",
    "  \n",
    "    print(\"classification_report\")\n",
    "    print(classification_report(to_class(y_test),y_pred))\n",
    "    \n",
    "    print(\"  \")\n",
    "    print(\"conf_matrix\")\n",
    "    \n",
    "    conf_mat = confusion_matrix(to_class(y_test), y_pred)\n",
    "    cm = pd.DataFrame(conf_mat)\n",
    "    cm\n",
    "    print(cm)\n",
    "    \n",
    "assess_model(LogisticRegression, X_test, y_test)    \n",
    "    \n",
    "    \n",
    "    \n",
    "    \n",
    "# Fill in the following function so it\n",
    "# - makes a prediction for the test set given the model\n",
    "# - reports the precision, recall and f1 score. Also print the confusion matrix. \n",
    "# You will need to use the helper to_class function to convert y_pred and y_test before supplying them to the sklearn functions.\n"
   ]
  },
  {
   "cell_type": "code",
   "execution_count": null,
   "metadata": {},
   "outputs": [],
   "source": [
    "\n"
   ]
  },
  {
   "cell_type": "code",
   "execution_count": null,
   "metadata": {},
   "outputs": [],
   "source": []
  },
  {
   "cell_type": "code",
   "execution_count": null,
   "metadata": {},
   "outputs": [],
   "source": []
  },
  {
   "cell_type": "code",
   "execution_count": null,
   "metadata": {},
   "outputs": [],
   "source": []
  },
  {
   "cell_type": "markdown",
   "metadata": {
    "colab_type": "text",
    "id": "nTqLbbE6MpGt"
   },
   "source": [
    "# Build and tune model"
   ]
  },
  {
   "cell_type": "markdown",
   "metadata": {
    "colab_type": "text",
    "id": "3X70rA4uMXNv"
   },
   "source": [
    "Define network architecture"
   ]
  },
  {
   "cell_type": "code",
   "execution_count": 60,
   "metadata": {
    "colab": {},
    "colab_type": "code",
    "id": "wKoXWKG4II5F",
    "scrolled": true
   },
   "outputs": [],
   "source": [
    "#\n",
    "\n",
    "inputdim = (np.max(X_train)+1)\n",
    "outputdim = 10\n",
    "inputlength = 4\n",
    "ep = 5\n",
    "bs = 10\n",
    "\n",
    "# importing the layers needed from keras\n",
    "from keras.layers import BatchNormalization\n",
    "from keras.layers import SpatialDropout1D\n",
    "from keras.layers import LSTM\n",
    "from keras.layers import Dense\n",
    "from keras.layers import LSTM, Dense, Dropout\n",
    "import keras\n",
    "from keras.models import Sequential\n",
    "from keras.layers import Dense, Dropout, Activation"
   ]
  },
  {
   "cell_type": "code",
   "execution_count": 61,
   "metadata": {},
   "outputs": [],
   "source": [
    "\n",
    "model = Sequential()\n",
    "model.add(tf.keras.layers.Embedding(inputdim, outputdim, input_length = 4))\n",
    "model.add(BatchNormalization())\n",
    "model.add(SpatialDropout1D(0.2))\n",
    "model.add(BatchNormalization())\n",
    "model.add(LSTM(32)) \n",
    "model.add(Dense(2 ,activation='softmax'))\n"
   ]
  },
  {
   "cell_type": "code",
   "execution_count": 62,
   "metadata": {},
   "outputs": [],
   "source": [
    "model.compile(\n",
    "                        loss=keras.losses.BinaryCrossentropy(from_logits=True),\n",
    "                        optimizer=keras.optimizers.Adam(),\n",
    "                        metrics=[\"accuracy\"])\n"
   ]
  },
  {
   "cell_type": "markdown",
   "metadata": {
    "colab_type": "text",
    "id": "llS0-VKBMbz-"
   },
   "source": [
    "Train model"
   ]
  },
  {
   "cell_type": "markdown",
   "metadata": {},
   "source": [
    "Model 1"
   ]
  },
  {
   "cell_type": "code",
   "execution_count": 63,
   "metadata": {},
   "outputs": [],
   "source": [
    "\n",
    "# outputdim of 10\n",
    "inputdim = (np.max(X_train)+1)\n",
    "outputdim = 10\n",
    "inputlength = 4\n",
    "ep = 5\n",
    "bs = 10\n",
    "\n",
    "\n",
    "X_train = tf.expand_dims(X_train, axis=-1)\n",
    "\n",
    "model = Sequential()\n",
    "model.add(tf.keras.layers.Embedding(inputdim, outputdim, input_length = 4))\n",
    "model.add(BatchNormalization())\n",
    "model.add(SpatialDropout1D(0.2))\n",
    "model.add(BatchNormalization())\n",
    "model.add(LSTM(32)) \n",
    "model.add(Dense(2 ,activation='softmax'))\n",
    "\n",
    "\n",
    "model.compile(\n",
    "                        loss=keras.losses.BinaryCrossentropy(from_logits=True),\n",
    "                        optimizer=keras.optimizers.Adam(),\n",
    "                        metrics=[\"accuracy\"])\n"
   ]
  },
  {
   "cell_type": "code",
   "execution_count": 64,
   "metadata": {
    "colab": {},
    "colab_type": "code",
    "id": "F5IJs0QuMe_I"
   },
   "outputs": [
    {
     "name": "stdout",
     "output_type": "stream",
     "text": [
      "Epoch 1/5\n",
      "96/96 [==============================] - 1s 9ms/step - loss: 0.7217 - accuracy: 0.5302 - val_loss: 0.7234 - val_accuracy: 0.5759\n",
      "Epoch 2/5\n",
      "96/96 [==============================] - 0s 2ms/step - loss: 0.7147 - accuracy: 0.5729 - val_loss: 0.7186 - val_accuracy: 0.5992\n",
      "Epoch 3/5\n",
      "96/96 [==============================] - 0s 2ms/step - loss: 0.7065 - accuracy: 0.5833 - val_loss: 0.7085 - val_accuracy: 0.6203\n",
      "Epoch 4/5\n",
      "96/96 [==============================] - 0s 2ms/step - loss: 0.7024 - accuracy: 0.5802 - val_loss: 0.6983 - val_accuracy: 0.6456\n",
      "Epoch 5/5\n",
      "96/96 [==============================] - 0s 2ms/step - loss: 0.6966 - accuracy: 0.6094 - val_loss: 0.6854 - val_accuracy: 0.6540\n"
     ]
    }
   ],
   "source": [
    "history1 = model.fit(X_train, y_train, batch_size=bs, epochs=ep, validation_split=0.33 )"
   ]
  },
  {
   "cell_type": "code",
   "execution_count": 65,
   "metadata": {},
   "outputs": [
    {
     "name": "stdout",
     "output_type": "stream",
     "text": [
      "INFO:tensorflow:Assets written to: M1\\assets\n"
     ]
    }
   ],
   "source": [
    "# save  model 1\n",
    "\n",
    "model.save('M1')\n",
    "saved_model = keras.models.load_model('M1')"
   ]
  },
  {
   "cell_type": "code",
   "execution_count": 66,
   "metadata": {},
   "outputs": [
    {
     "name": "stdout",
     "output_type": "stream",
     "text": [
      "12/12 [==============================] - 0s 2ms/step - loss: 0.6999 - accuracy: 0.5850\n",
      "score\n",
      "0.5849581956863403\n"
     ]
    }
   ],
   "source": [
    "m = keras.models.load_model('M1')\n",
    "s = m.evaluate(X_test, y_test)\n",
    "print(\"score\")\n",
    "print(s[1])"
   ]
  },
  {
   "cell_type": "markdown",
   "metadata": {},
   "source": [
    "Model 2"
   ]
  },
  {
   "cell_type": "code",
   "execution_count": 67,
   "metadata": {},
   "outputs": [],
   "source": [
    "# outputdim of 25\n",
    "inputdim = (np.max(X_train)+1)\n",
    "outputdim = 25\n",
    "inputlength = 4\n",
    "ep = 5\n",
    "bs = 10\n",
    "\n",
    "\n",
    "model = Sequential()\n",
    "model.add(tf.keras.layers.Embedding(inputdim, outputdim, input_length = 4))\n",
    "model.add(BatchNormalization())\n",
    "model.add(SpatialDropout1D(0.2))\n",
    "model.add(BatchNormalization())\n",
    "model.add(LSTM(32)) \n",
    "model.add(Dense(2 ,activation='softmax'))\n",
    "\n",
    "\n",
    "model.compile(\n",
    "                        loss=keras.losses.BinaryCrossentropy(from_logits=True),\n",
    "                        optimizer=keras.optimizers.Adam(),\n",
    "                        metrics=[\"accuracy\"])\n",
    "\n"
   ]
  },
  {
   "cell_type": "code",
   "execution_count": 68,
   "metadata": {},
   "outputs": [
    {
     "name": "stdout",
     "output_type": "stream",
     "text": [
      "Epoch 1/5\n",
      "96/96 [==============================] - 1s 9ms/step - loss: 0.7222 - accuracy: 0.5167 - val_loss: 0.7226 - val_accuracy: 0.5464\n",
      "Epoch 2/5\n",
      "96/96 [==============================] - 0s 2ms/step - loss: 0.7136 - accuracy: 0.5688 - val_loss: 0.7177 - val_accuracy: 0.5781\n",
      "Epoch 3/5\n",
      "96/96 [==============================] - 0s 2ms/step - loss: 0.7067 - accuracy: 0.5906 - val_loss: 0.7091 - val_accuracy: 0.6561\n",
      "Epoch 4/5\n",
      "96/96 [==============================] - 0s 2ms/step - loss: 0.6986 - accuracy: 0.5948 - val_loss: 0.6945 - val_accuracy: 0.6287\n",
      "Epoch 5/5\n",
      "96/96 [==============================] - 0s 2ms/step - loss: 0.6973 - accuracy: 0.5938 - val_loss: 0.6926 - val_accuracy: 0.6435\n"
     ]
    }
   ],
   "source": [
    "history2 = model.fit(X_train, y_train, batch_size=bs, epochs=ep,validation_split=0.33 )\n"
   ]
  },
  {
   "cell_type": "code",
   "execution_count": 69,
   "metadata": {},
   "outputs": [
    {
     "name": "stdout",
     "output_type": "stream",
     "text": [
      "INFO:tensorflow:Assets written to: M2\\assets\n"
     ]
    }
   ],
   "source": [
    "# save  model 2\n",
    "\n",
    "model.save('M2')\n",
    "saved_model = keras.models.load_model('M2')"
   ]
  },
  {
   "cell_type": "code",
   "execution_count": 70,
   "metadata": {},
   "outputs": [
    {
     "name": "stdout",
     "output_type": "stream",
     "text": [
      "12/12 [==============================] - 0s 1ms/step - loss: 0.7010 - accuracy: 0.6017\n",
      "score\n",
      "0.6016713380813599\n"
     ]
    }
   ],
   "source": [
    "# evaluate model 2\n",
    "\n",
    "m = keras.models.load_model('M2')\n",
    "s = m.evaluate(X_test, y_test)\n",
    "print(\"score\")\n",
    "print(s[1])"
   ]
  },
  {
   "cell_type": "markdown",
   "metadata": {},
   "source": [
    "Model 3"
   ]
  },
  {
   "cell_type": "code",
   "execution_count": 71,
   "metadata": {},
   "outputs": [],
   "source": [
    "\n",
    "# outputdim of 50\n",
    "inputdim = (np.max(X_train)+1)\n",
    "outputdim = 50\n",
    "inputlength = 4\n",
    "ep = 5\n",
    "bs = 10\n",
    "\n",
    "\n",
    "\n",
    "model = Sequential()\n",
    "model.add(tf.keras.layers.Embedding(inputdim, outputdim, input_length = 4))\n",
    "model.add(BatchNormalization())\n",
    "model.add(SpatialDropout1D(0.2))\n",
    "model.add(BatchNormalization())\n",
    "model.add(LSTM(32)) \n",
    "model.add(Dense(2 ,activation='softmax'))\n",
    "\n",
    "\n",
    "model.compile(\n",
    "                        loss=keras.losses.BinaryCrossentropy(from_logits=True),\n",
    "                        optimizer=keras.optimizers.Adam(),\n",
    "                        metrics=[\"accuracy\"])\n"
   ]
  },
  {
   "cell_type": "code",
   "execution_count": 72,
   "metadata": {},
   "outputs": [
    {
     "name": "stdout",
     "output_type": "stream",
     "text": [
      "Epoch 1/5\n",
      "96/96 [==============================] - 1s 9ms/step - loss: 0.7202 - accuracy: 0.5250 - val_loss: 0.7219 - val_accuracy: 0.5928\n",
      "Epoch 2/5\n",
      "96/96 [==============================] - 0s 2ms/step - loss: 0.7113 - accuracy: 0.5698 - val_loss: 0.7178 - val_accuracy: 0.6371\n",
      "Epoch 3/5\n",
      "96/96 [==============================] - 0s 2ms/step - loss: 0.7049 - accuracy: 0.5844 - val_loss: 0.7086 - val_accuracy: 0.6603\n",
      "Epoch 4/5\n",
      "96/96 [==============================] - 0s 2ms/step - loss: 0.6974 - accuracy: 0.6042 - val_loss: 0.6930 - val_accuracy: 0.6392\n",
      "Epoch 5/5\n",
      "96/96 [==============================] - 0s 2ms/step - loss: 0.6965 - accuracy: 0.5969 - val_loss: 0.6879 - val_accuracy: 0.6350\n"
     ]
    }
   ],
   "source": [
    "history3 = model.fit(X_train, y_train, batch_size=bs, epochs=ep,validation_split=0.33 )"
   ]
  },
  {
   "cell_type": "code",
   "execution_count": 73,
   "metadata": {},
   "outputs": [
    {
     "name": "stdout",
     "output_type": "stream",
     "text": [
      "INFO:tensorflow:Assets written to: M3\\assets\n"
     ]
    }
   ],
   "source": [
    "# save  model 3\n",
    "\n",
    "model.save('M3')\n",
    "saved_model = keras.models.load_model('M3')\n"
   ]
  },
  {
   "cell_type": "code",
   "execution_count": 74,
   "metadata": {},
   "outputs": [
    {
     "name": "stdout",
     "output_type": "stream",
     "text": [
      "12/12 [==============================] - 0s 1ms/step - loss: 0.7007 - accuracy: 0.6017\n",
      "score\n",
      "0.6016713380813599\n"
     ]
    }
   ],
   "source": [
    "# evaluate model 3\n",
    "m = keras.models.load_model('M3')\n",
    "s = m.evaluate(X_test, y_test)\n",
    "print(\"score\")\n",
    "print(s[1])"
   ]
  },
  {
   "cell_type": "markdown",
   "metadata": {},
   "source": [
    "Model 4"
   ]
  },
  {
   "cell_type": "code",
   "execution_count": 75,
   "metadata": {},
   "outputs": [],
   "source": [
    "# outputdim of 100\n",
    "inputdim = (np.max(X_train)+1)\n",
    "outputdim = 100\n",
    "inputlength = 4\n",
    "ep = 5\n",
    "bs = 10\n",
    "\n",
    "\n",
    "\n",
    "\n",
    "\n",
    "model = Sequential()\n",
    "model.add(tf.keras.layers.Embedding(inputdim, outputdim, input_length = 4))\n",
    "model.add(BatchNormalization())\n",
    "model.add(SpatialDropout1D(0.2))\n",
    "model.add(BatchNormalization())\n",
    "model.add(LSTM(32)) \n",
    "model.add(Dense(2 ,activation='softmax'))\n",
    "\n",
    "\n",
    "model.compile(\n",
    "                        loss=keras.losses.BinaryCrossentropy(from_logits=True),\n",
    "                        optimizer=keras.optimizers.Adam(),\n",
    "                        metrics=[\"accuracy\"])\n",
    "\n",
    "\n"
   ]
  },
  {
   "cell_type": "code",
   "execution_count": 76,
   "metadata": {},
   "outputs": [
    {
     "name": "stdout",
     "output_type": "stream",
     "text": [
      "Epoch 1/5\n",
      "96/96 [==============================] - 1s 9ms/step - loss: 0.7211 - accuracy: 0.5271 - val_loss: 0.7217 - val_accuracy: 0.5633\n",
      "Epoch 2/5\n",
      "96/96 [==============================] - 0s 3ms/step - loss: 0.7110 - accuracy: 0.5792 - val_loss: 0.7146 - val_accuracy: 0.5949\n",
      "Epoch 3/5\n",
      "96/96 [==============================] - 0s 3ms/step - loss: 0.7038 - accuracy: 0.5865 - val_loss: 0.7027 - val_accuracy: 0.6308\n",
      "Epoch 4/5\n",
      "96/96 [==============================] - 0s 3ms/step - loss: 0.6968 - accuracy: 0.6187 - val_loss: 0.6917 - val_accuracy: 0.6667\n",
      "Epoch 5/5\n",
      "96/96 [==============================] - 0s 3ms/step - loss: 0.6945 - accuracy: 0.6146 - val_loss: 0.6912 - val_accuracy: 0.6456\n"
     ]
    }
   ],
   "source": [
    "history4 = model.fit(X_train, y_train, batch_size=bs, epochs=ep,validation_split=0.33 )\n"
   ]
  },
  {
   "cell_type": "code",
   "execution_count": 77,
   "metadata": {},
   "outputs": [
    {
     "name": "stdout",
     "output_type": "stream",
     "text": [
      "INFO:tensorflow:Assets written to: M4\\assets\n"
     ]
    }
   ],
   "source": [
    "# save  model 4\n",
    "\n",
    "model.save('M4')\n",
    "saved_model = keras.models.load_model('M4')\n"
   ]
  },
  {
   "cell_type": "code",
   "execution_count": 78,
   "metadata": {},
   "outputs": [
    {
     "name": "stdout",
     "output_type": "stream",
     "text": [
      "12/12 [==============================] - 0s 2ms/step - loss: 0.7006 - accuracy: 0.6072\n",
      "score\n",
      "0.6072423458099365\n"
     ]
    }
   ],
   "source": [
    "# evaluate model 4\n",
    "m = keras.models.load_model('M4')\n",
    "s = m.evaluate(X_test, y_test)\n",
    "print(\"score\")\n",
    "print(s[1])"
   ]
  },
  {
   "cell_type": "markdown",
   "metadata": {},
   "source": [
    "From the above we can see that model 3 has the best score. "
   ]
  },
  {
   "cell_type": "markdown",
   "metadata": {
    "colab_type": "text",
    "id": "rniBBEiyMRKD"
   },
   "source": [
    "Examine performance of model"
   ]
  },
  {
   "cell_type": "markdown",
   "metadata": {},
   "source": [
    "Picking the final model based on score : model 3 has the highest score "
   ]
  },
  {
   "cell_type": "code",
   "execution_count": 82,
   "metadata": {
    "colab": {},
    "colab_type": "code",
    "id": "eBVogHg2II5T",
    "tags": []
   },
   "outputs": [],
   "source": [
    "#based on the score and final evaluation the best model to use is model4\n",
    "\n",
    "model = keras.models.load_model('M4')"
   ]
  },
  {
   "cell_type": "code",
   "execution_count": 83,
   "metadata": {},
   "outputs": [
    {
     "name": "stdout",
     "output_type": "stream",
     "text": [
      "12/12 [==============================] - 0s 1ms/step - loss: 0.7006 - accuracy: 0.6072\n",
      "Final TEST performance\n",
      "loss: 0.7006134390830994\n",
      "accuracy: 0.6072423458099365\n"
     ]
    }
   ],
   "source": [
    "metric_values = model.evaluate(x= X_test, y= y_test)\n",
    "\n",
    "print('Final TEST performance')\n",
    "for metric_value, metric_name in zip(metric_values, model.metrics_names):\n",
    "  print('{}: {}'.format(metric_name, metric_value))"
   ]
  },
  {
   "cell_type": "code",
   "execution_count": null,
   "metadata": {},
   "outputs": [],
   "source": []
  },
  {
   "cell_type": "code",
   "execution_count": null,
   "metadata": {},
   "outputs": [],
   "source": []
  },
  {
   "cell_type": "code",
   "execution_count": null,
   "metadata": {},
   "outputs": [],
   "source": []
  },
  {
   "cell_type": "code",
   "execution_count": null,
   "metadata": {},
   "outputs": [],
   "source": []
  },
  {
   "cell_type": "markdown",
   "metadata": {
    "colab_type": "text",
    "id": "HB8kzt-IME4U"
   },
   "source": [
    "Plot graphs for accuracy and loss"
   ]
  },
  {
   "cell_type": "code",
   "execution_count": 84,
   "metadata": {},
   "outputs": [
    {
     "name": "stdout",
     "output_type": "stream",
     "text": [
      "dict_keys(['loss', 'accuracy', 'val_loss', 'val_accuracy'])\n"
     ]
    }
   ],
   "source": [
    "\n",
    "\n",
    "#getting the Keys of histoy to see what to graph\n",
    "print(history3.history.keys())\n"
   ]
  },
  {
   "cell_type": "code",
   "execution_count": 85,
   "metadata": {
    "colab": {},
    "colab_type": "code",
    "id": "hPyJ78unMJUI"
   },
   "outputs": [
    {
     "data": {
      "image/png": "[encoded data removed]",
      "text/plain": [
       "<Figure size 432x288 with 1 Axes>"
      ]
     },
     "metadata": {
      "needs_background": "light"
     },
     "output_type": "display_data"
    }
   ],
   "source": [
    "# Plot of the Accuracy of the model\n",
    "\n",
    "import keras\n",
    "from matplotlib import pyplot as plt\n",
    "\n",
    "plt.plot(history4.history['accuracy'])\n",
    "plt.plot(history4.history['val_accuracy'])\n",
    "plt.title('model accuracy')\n",
    "plt.ylabel('accuracy')\n",
    "plt.xlabel('epoch')\n",
    "plt.legend(['train', 'val'], loc='upper left')\n",
    "plt.show()"
   ]
  },
  {
   "cell_type": "code",
   "execution_count": 86,
   "metadata": {},
   "outputs": [
    {
     "data": {
      "image/png": "[encoded data removed]",
      "text/plain": [
       "<Figure size 432x288 with 1 Axes>"
      ]
     },
     "metadata": {
      "needs_background": "light"
     },
     "output_type": "display_data"
    }
   ],
   "source": [
    "# Plot of the Accuracy of the model\n",
    "\n",
    "plt.plot(history4.history['loss'])\n",
    "plt.plot(history4.history['val_loss'])\n",
    "plt.title('model loss')\n",
    "plt.ylabel('loss')\n",
    "plt.xlabel('epoch')\n",
    "plt.legend(['train', 'val'], loc='upper left')\n",
    "plt.show()\n",
    "\n",
    "# this code was adatped form https://stackoverflow.com/questions/41908379/keras-plot-training-validation-and-test-set-accuracy"
   ]
  },
  {
   "cell_type": "markdown",
   "metadata": {
    "colab_type": "text",
    "id": "eAZ1LyFBMLoK"
   },
   "source": [
    "# Make a prediction"
   ]
  },
  {
   "cell_type": "code",
   "execution_count": null,
   "metadata": {
    "colab": {},
    "colab_type": "code",
    "id": "vfPM5LokII5V",
    "tags": []
   },
   "outputs": [],
   "source": []
  },
  {
   "cell_type": "code",
   "execution_count": 87,
   "metadata": {},
   "outputs": [],
   "source": [
    "model = keras.models.load_model('M4')"
   ]
  },
  {
   "cell_type": "code",
   "execution_count": 88,
   "metadata": {},
   "outputs": [
    {
     "name": "stdout",
     "output_type": "stream",
     "text": [
      "['negative', 'positive', 'negative', 'positive', 'positive']\n",
      "[1, 0, 1, 0, 0]\n",
      "WARNING:tensorflow:Model was constructed with shape (None, 4) for input Tensor(\"embedding_9_input_4:0\", shape=(None, 4), dtype=float32), but it was called on an input with incompatible shape (None, 1).\n",
      "0\n",
      "predition\n",
      "[0.49199378 0.5080062 ]\n",
      "test y\n",
      "[0. 1.]\n",
      "       \n",
      "1\n",
      "predition\n",
      "[0.49199378 0.5080062 ]\n",
      "test y\n",
      "[1. 0.]\n",
      "       \n",
      "2\n",
      "predition\n",
      "[0.49199378 0.5080062 ]\n",
      "test y\n",
      "[0. 1.]\n",
      "       \n",
      "3\n",
      "predition\n",
      "[0.49199378 0.5080062 ]\n",
      "test y\n",
      "[1. 0.]\n",
      "       \n",
      "4\n",
      "predition\n",
      "[0.49199378 0.5080062 ]\n",
      "test y\n",
      "[0. 1.]\n",
      "       \n"
     ]
    }
   ],
   "source": [
    "# This is a very small set of completed new data to use to make predictions.\n",
    "prediction_data = [\"this book is fabulous\",\"i hated this book\", \"the best\", \"no good\", \"okay\"]\n",
    "tokenized = tokenizer.texts_to_sequences(prediction_data)\n",
    "padded = pad_sequences(tokenized, padding='post', maxlen=4)\n",
    "\n",
    "\n",
    "# Supply this data to each of your models and see how it does. \n",
    "# You can call the helper function \"to_word_label\" to map the output of the model to the name of the\n",
    "# class it was predicted to belong to.\n",
    "\n",
    "\n",
    "data_test = to_word_label(padded)\n",
    "print(data_test)\n",
    "\n",
    "data_1 = []\n",
    "for i in range(0,5):\n",
    "    d = data_test[i]\n",
    "    if d == 'positive':\n",
    "        data_1.append(0)\n",
    "    else:\n",
    "        data_1.append(1)\n",
    "print(data_1)\n",
    "\n",
    "data_2 = to_numeric_label(data_test)\n",
    "\n",
    "pred = model.predict(data_2)\n",
    "\n",
    "for i in range(0,5):\n",
    "    \n",
    "    print(i)\n",
    "    print(\"predition\")\n",
    "    print(pred[i])\n",
    "    print(\"test y\")\n",
    "    print(y_test[i])\n",
    "    print(\"       \")"
   ]
  },
  {
   "cell_type": "code",
   "execution_count": null,
   "metadata": {},
   "outputs": [],
   "source": []
  },
  {
   "cell_type": "code",
   "execution_count": null,
   "metadata": {},
   "outputs": [],
   "source": []
  },
  {
   "cell_type": "code",
   "execution_count": null,
   "metadata": {},
   "outputs": [],
   "source": []
  },
  {
   "cell_type": "code",
   "execution_count": null,
   "metadata": {},
   "outputs": [],
   "source": []
  },
  {
   "cell_type": "code",
   "execution_count": null,
   "metadata": {},
   "outputs": [],
   "source": []
  }
 ],
 "metadata": {
  "colab": {
   "collapsed_sections": [],
   "name": "L3T20.ipynb",
   "provenance": []
  },
  "kernelspec": {
   "display_name": "Python 3 (ipykernel)",
   "language": "python",
   "name": "python3"
  },
  "language_info": {
   "codemirror_mode": {
    "name": "ipython",
    "version": 3
   },
   "file_extension": ".py",
   "mimetype": "text/x-python",
   "name": "python",
   "nbconvert_exporter": "python",
   "pygments_lexer": "ipython3",
   "version": "3.8.11"
  }
 },
 "nbformat": 4,
 "nbformat_minor": 1
}
